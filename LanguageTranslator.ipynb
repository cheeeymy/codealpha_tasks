{
 "cells": [
  {
   "cell_type": "code",
   "execution_count": 9,
   "id": "05994e3f-2a46-423f-b2b1-8014d8de78fa",
   "metadata": {},
   "outputs": [],
   "source": [
    "from tkinter import *\n",
    "from tkinter import ttk \n",
    "from googletrans import Translator, LANGUAGES "
   ]
  },
  {
   "cell_type": "code",
   "execution_count": 11,
   "id": "05db3340-f309-49b4-8a6b-1d028af98677",
   "metadata": {},
   "outputs": [],
   "source": [
    "root = Tk()\n",
    "root.geometry('1100x320')\n",
    "root.resizable(0,0)\n",
    "root['bg'] = 'papayawhip'\n",
    "\n",
    "root.title('Language Translator by Chaimae')\n",
    "Label(root, text = \"Language Translator\", font = \"arial 20 bold\", bg ='yellow green').pack()\n",
    "\n"
   ]
  },
  {
   "cell_type": "code",
   "execution_count": null,
   "id": "d51ec2e7-6279-44ca-aa18-940229cb216b",
   "metadata": {},
   "outputs": [],
   "source": [
    "Label(root, text =\"Enter text\", font='arial 13 bold', bg ='yellow green').place(x=165, y=90)"
   ]
  },
  {
   "cell_type": "code",
   "execution_count": 13,
   "id": "b2ecfc44-12be-42a3-beec-280b2a8380d7",
   "metadata": {},
   "outputs": [
    {
     "data": {
      "text/plain": [
       "''"
      ]
     },
     "execution_count": 13,
     "metadata": {},
     "output_type": "execute_result"
    }
   ],
   "source": [
    "Imput_text = Entry(root, width=60)\n",
    "Imput_text.place(x=30, y=130)\n",
    "Imput_text.get()"
   ]
  },
  {
   "cell_type": "code",
   "execution_count": 15,
   "id": "656b2c97-d5d6-444b-809d-555e26e9980f",
   "metadata": {},
   "outputs": [],
   "source": [
    "Label(root, text = \"Output\", font = 'arial 10 bold', bg='yellow green').place(x=780, y=90)\n",
    "Output_text = Text(root, font='arial 10', height = 5, wrap = WORD, padx = 5, width=50)\n",
    "Output_text.place(x= 600, y =130)\n",
    "\n",
    "language = list(LANGUAGES.values())\n",
    "\n",
    "dest_lang = ttk.Combobox(root, values= language, width=22)\n",
    "dest_lang.place(x=130, y=180)\n",
    "dest_lang.set('choose language')  # Default text\n",
    "\n",
    "def Translate():\n",
    "    translator = Translator()\n",
    "    translated = translator.translate(text=Imput_text.get(), dest = dest_lang.get())\n",
    "    Output_text.delete(1.0, END)\n",
    "    Output_text.insert(END, translated.text)\n",
    "\n",
    "trans_btn = Button(root, text= 'Translate', font='arial 12 bold', pady = 5, command= Translate, bg= 'orange', activebackground= 'green')\n",
    "trans_btn.place(x=445, y=180)\n",
    "\n",
    "root.mainloop()\n"
   ]
  }
 ],
 "metadata": {
  "kernelspec": {
   "display_name": "Python [conda env:base] *",
   "language": "python",
   "name": "conda-base-py"
  },
  "language_info": {
   "codemirror_mode": {
    "name": "ipython",
    "version": 3
   },
   "file_extension": ".py",
   "mimetype": "text/x-python",
   "name": "python",
   "nbconvert_exporter": "python",
   "pygments_lexer": "ipython3",
   "version": "3.12.7"
  }
 },
 "nbformat": 4,
 "nbformat_minor": 5
}
