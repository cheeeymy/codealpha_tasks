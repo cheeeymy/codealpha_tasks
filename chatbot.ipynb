{
 "cells": [
  {
   "cell_type": "code",
   "execution_count": 2,
   "id": "6172cb8c-24e5-4cef-b5d8-45445fc64819",
   "metadata": {},
   "outputs": [],
   "source": [
    "import nltk\n",
    "from nltk.corpus import stopwords\n",
    "from nltk.tokenize import word_tokenize\n",
    "from nltk.stem import PorterStemmer\n",
    "from sklearn.feature_extraction.text import TfidfVectorizer\n",
    "from sklearn.metrics.pairwise import cosine_similarity\n",
    "import tkinter as tk\n",
    "from tkinter import scrolledtext"
   ]
  },
  {
   "cell_type": "code",
   "execution_count": null,
   "id": "9019eac3-e419-4e66-b5c0-b353f5c17edb",
   "metadata": {},
   "outputs": [],
   "source": []
  },
  {
   "cell_type": "code",
   "execution_count": 3,
   "id": "f2b0cc9a-162e-4c3f-8ddd-21c93c194a1e",
   "metadata": {},
   "outputs": [
    {
     "name": "stderr",
     "output_type": "stream",
     "text": [
      "[nltk_data] Downloading package punkt to\n",
      "[nltk_data]     C:\\Users\\asus\\AppData\\Roaming\\nltk_data...\n",
      "[nltk_data]   Package punkt is already up-to-date!\n",
      "[nltk_data] Downloading package stopwords to\n",
      "[nltk_data]     C:\\Users\\asus\\AppData\\Roaming\\nltk_data...\n",
      "[nltk_data]   Package stopwords is already up-to-date!\n"
     ]
    },
    {
     "data": {
      "text/plain": [
       "True"
      ]
     },
     "execution_count": 3,
     "metadata": {},
     "output_type": "execute_result"
    }
   ],
   "source": [
    "# Download necessary NLTK resources\n",
    "nltk.download('punkt')\n",
    "nltk.download('stopwords')\n",
    "\n"
   ]
  },
  {
   "cell_type": "code",
   "execution_count": 4,
   "id": "a0971ff7-6cba-431a-94c9-19d914bfe8f1",
   "metadata": {},
   "outputs": [],
   "source": [
    "# FAQ Data\n",
    "faq = {\n",
    "    \"Does the phone have 5G support?\": \"Yes, the phone supports 5G connectivity.\",\n",
    "    \"What is the warranty period of the phone?\": \"The warranty period is 2 years from the date of purchase.\",\n",
    "    \"How do I reset my phone to factory settings?\": \"To reset your phone, go to Settings > General > Reset > Erase All Content and Settings.\",\n",
    "    \"What is the battery life of the phone?\": \"The battery lasts up to 12 hours on a full charge, depending on usage.\",\n",
    "    \"Does the phone support wireless charging?\": \"Yes, this phone supports wireless charging with a Qi-compatible charger.\",\n",
    "    \"Is the phone water-resistant?\": \"Yes, the phone is IP68 certified for water and dust resistance.\", \n",
    "    \"My phone is overheating, what should I do?\": \"f your phone is overheating, close unused apps, avoid using it while charging, and remove the case to let it cool down.\",\n",
    "    \"Why is my phone not charging?\": \"Ensure the charging cable and adapter are working and check for debris in the charging port. If the issue persists, contact customer support.\",\n",
    "    \"How do I transfer data from my old phone to the new one?\": \"Use the built-in Phone Transfer app or connect both phones to a computer and use the transfer tool.\",\n",
    "    \"Does the phone support fast charging?\": \"Yes, it supports fast charging with the included charger.\"\n",
    "}\n"
   ]
  },
  {
   "cell_type": "code",
   "execution_count": 5,
   "id": "22489d4e-7c7e-4d0c-af07-50effa407c5e",
   "metadata": {},
   "outputs": [],
   "source": [
    "# Preprocessing Function\n",
    "def preprocess_text(text):\n",
    "    \"\"\"\n",
    "    Preprocesses the input by lowering case, tokenizing, removing stopwords,\n",
    "    and stemming.\n",
    "    \"\"\"\n",
    "    text = text.lower()\n",
    "    words = word_tokenize(text)\n",
    "    stop_words = set(stopwords.words('english'))\n",
    "    words = [word for word in words if word.isalnum() and word not in stop_words]  # Remove non-alphanumeric\n",
    "    stemmer = PorterStemmer()\n",
    "    stemmed_words = [stemmer.stem(word) for word in words]\n",
    "    return ' '.join(stemmed_words)\n"
   ]
  },
  {
   "cell_type": "code",
   "execution_count": null,
   "id": "1609a4f8-a49e-43f1-82c3-5b8cb3933ade",
   "metadata": {},
   "outputs": [],
   "source": []
  },
  {
   "cell_type": "code",
   "execution_count": 6,
   "id": "0e5d97e1-6f4a-4f54-a340-2c5e60091601",
   "metadata": {},
   "outputs": [],
   "source": [
    "# Preprocess FAQ Questions\n",
    "preprocessed_faq = {preprocess_text(q): a for q, a in faq.items()}\n",
    "\n",
    "# Find Best Match Function\n",
    "def find_best_match(user_input, faq_data, threshold=0.3):\n",
    "    \"\"\"\n",
    "    Finds the best match for a user's input using TF-IDF and cosine similarity.\n",
    "    \"\"\"\n",
    "    # Vectorize the preprocessed FAQ questions\n",
    "    vectorizer = TfidfVectorizer()\n",
    "    faq_questions = list(faq_data.keys())\n",
    "    faq_answers = list(faq_data.values())\n",
    "    faq_tfidf = vectorizer.fit_transform(faq_questions)\n",
    "\n",
    "    # Vectorize the preprocessed user input\n",
    "    preprocessed_input = preprocess_text(user_input)\n",
    "    user_input_tfidf = vectorizer.transform([preprocessed_input])\n",
    "\n",
    "    # Compute cosine similarity\n",
    "    cosine_similarities = cosine_similarity(user_input_tfidf, faq_tfidf).flatten()\n",
    "    max_similarity = cosine_similarities.max()\n",
    "\n",
    "    if max_similarity < threshold:\n",
    "        return \"I’m sorry, I didn’t understand your question. Can you please rephrase?\"\n",
    "\n",
    "    # Find the index of the highest similarity\n",
    "    best_match_index = cosine_similarities.argmax()\n",
    "    return faq_answers[best_match_index]\n"
   ]
  },
  {
   "cell_type": "code",
   "execution_count": 7,
   "id": "37366831-2de5-4fe6-8ec5-fb8a0615127e",
   "metadata": {},
   "outputs": [],
   "source": [
    "# GUI Implementation\n",
    "def send_message():\n",
    "    \"\"\"\n",
    "    Gets user input, processes it, and displays the chatbot's response.\n",
    "    \"\"\"\n",
    "    user_input = user_input_entry.get()\n",
    "    if not user_input.strip():\n",
    "        return\n",
    "\n",
    "    chat_window.insert(tk.END, f\"You: {user_input}\\n\")\n",
    "    user_input_entry.delete(0, tk.END)\n",
    "\n",
    "    # Get the response\n",
    "    response = find_best_match(user_input, preprocessed_faq)\n",
    "    chat_window.insert(tk.END, f\"Bot: {response}\\n\")\n",
    "    chat_window.yview(tk.END)"
   ]
  },
  {
   "cell_type": "code",
   "execution_count": 8,
   "id": "7c314743-33c0-4764-839d-bc4a63a66e6f",
   "metadata": {},
   "outputs": [],
   "source": [
    "# Create the main window\n",
    "root = tk.Tk()\n",
    "root.title(\"FAQ Chatbot\")\n",
    "\n",
    "# Chat window\n",
    "chat_window = scrolledtext.ScrolledText(root, wrap=tk.WORD, width=50, height=20, state='normal', font=(\"Arial\", 12))\n",
    "chat_window.grid(row=0, column=0, columnspan=2, padx=10, pady=10)\n",
    "\n",
    "chat_window.insert(tk.END, \"Bot: Hello! I am your FAQ chatbot. How may I assist you today?\\n\")\n",
    "chat_window.insert(tk.END, \"Bot: You can ask me about warranty, resetting your phone, 5G support, and more.\\n\")\n",
    "\n",
    "# Input field\n",
    "user_input_entry = tk.Entry(root, width=40, font=(\"Arial\", 12))\n",
    "user_input_entry.grid(row=1, column=0, padx=10, pady=10)\n",
    "\n",
    "# Send button\n",
    "send_button = tk.Button(root, text=\"Send\", command=send_message, width=10, font=(\"Arial\", 12))\n",
    "send_button.grid(row=1, column=1, padx=10, pady=10)"
   ]
  },
  {
   "cell_type": "code",
   "execution_count": 9,
   "id": "aa43b9f8-d947-466b-b97c-c7d8ea990270",
   "metadata": {},
   "outputs": [],
   "source": [
    "# Run the Application\n",
    "root.mainloop()"
   ]
  },
  {
   "cell_type": "code",
   "execution_count": null,
   "id": "5f1f59b2-9ec4-44d2-b81f-22c738d07b90",
   "metadata": {},
   "outputs": [],
   "source": []
  }
 ],
 "metadata": {
  "kernelspec": {
   "display_name": "Python [conda env:base] *",
   "language": "python",
   "name": "conda-base-py"
  },
  "language_info": {
   "codemirror_mode": {
    "name": "ipython",
    "version": 3
   },
   "file_extension": ".py",
   "mimetype": "text/x-python",
   "name": "python",
   "nbconvert_exporter": "python",
   "pygments_lexer": "ipython3",
   "version": "3.12.7"
  }
 },
 "nbformat": 4,
 "nbformat_minor": 5
}
